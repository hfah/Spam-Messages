{
 "cells": [
  {
   "cell_type": "code",
   "execution_count": 1,
   "metadata": {
    "scrolled": true
   },
   "outputs": [
    {
     "name": "stderr",
     "output_type": "stream",
     "text": [
      "[nltk_data] Downloading package punkt to\n",
      "[nltk_data]     C:\\Users\\agnes\\AppData\\Roaming\\nltk_data...\n",
      "[nltk_data]   Package punkt is already up-to-date!\n",
      "[nltk_data] Downloading package words to\n",
      "[nltk_data]     C:\\Users\\agnes\\AppData\\Roaming\\nltk_data...\n",
      "[nltk_data]   Package words is already up-to-date!\n",
      "[nltk_data] Downloading package stopwords to\n",
      "[nltk_data]     C:\\Users\\agnes\\AppData\\Roaming\\nltk_data...\n",
      "[nltk_data]   Package stopwords is already up-to-date!\n",
      "[nltk_data] Downloading package averaged_perceptron_tagger to\n",
      "[nltk_data]     C:\\Users\\agnes\\AppData\\Roaming\\nltk_data...\n",
      "[nltk_data]   Package averaged_perceptron_tagger is already up-to-\n",
      "[nltk_data]       date!\n",
      "[nltk_data] Downloading package brown to\n",
      "[nltk_data]     C:\\Users\\agnes\\AppData\\Roaming\\nltk_data...\n",
      "[nltk_data]   Package brown is already up-to-date!\n"
     ]
    }
   ],
   "source": [
    "import pandas as pd\n",
    "import nltk\n",
    "import random\n",
    "from nltk import word_tokenize\n",
    "from nltk.corpus import stopwords\n",
    "from nltk.corpus import words\n",
    "from nltk.corpus import brown\n",
    "from nltk.stem import PorterStemmer\n",
    "import string\n",
    "import re\n",
    "from wordcloud import WordCloud \n",
    "import matplotlib.pyplot as plt \n",
    "import seaborn as sns\n",
    "from textblob import TextBlob\n",
    "from sklearn.feature_extraction.text import CountVectorizer\n",
    "import numpy as np\n",
    "from sklearn.metrics import accuracy_score,confusion_matrix\n",
    "from tensorflow.keras.preprocessing.text import one_hot\n",
    "\n",
    "nltk.download('punkt')\n",
    "nltk.download('words')\n",
    "nltk.download('stopwords')\n",
    "nltk.download('averaged_perceptron_tagger')\n",
    "nltk.download('brown')\n",
    "\n",
    "pd.options.display.max_colwidth = 200\n",
    "pd.options.display.max_columns = 30"
   ]
  },
  {
   "cell_type": "markdown",
   "metadata": {},
   "source": [
    "## Import Data"
   ]
  },
  {
   "cell_type": "code",
   "execution_count": 2,
   "metadata": {},
   "outputs": [],
   "source": [
    "import pandas as pd\n",
    "df = pd.read_csv('SPAM text message 20170820 - Data.csv')"
   ]
  },
  {
   "cell_type": "markdown",
   "metadata": {},
   "source": [
    "## EDA"
   ]
  },
  {
   "cell_type": "markdown",
   "metadata": {},
   "source": [
    "**Difference in word count between ham and spam**"
   ]
  },
  {
   "cell_type": "code",
   "execution_count": 3,
   "metadata": {},
   "outputs": [],
   "source": [
    "#Add column - Word count for Message\n",
    "df_eda = df\n",
    "df_eda[\"word count\"] = df_eda[\"Message\"].apply(lambda x: len(x.split()))"
   ]
  },
  {
   "cell_type": "code",
   "execution_count": 4,
   "metadata": {},
   "outputs": [
    {
     "data": {
      "image/png": "[encoded data removed]",
      "text/plain": [
       "<Figure size 576x432 with 1 Axes>"
      ]
     },
     "metadata": {
      "needs_background": "light"
     },
     "output_type": "display_data"
    }
   ],
   "source": [
    "fig=plt.figure(figsize=(8,6))\n",
    "sns.histplot(\n",
    "    x=df_eda[\"word count\"],\n",
    "    hue=df_eda[\"Category\"],\n",
    "    palette=['#F08080',\"#154360\"]\n",
    ")\n",
    "plt.title(\"ham vs spam message word count\")\n",
    "plt.show()"
   ]
  },
  {
   "cell_type": "markdown",
   "metadata": {},
   "source": [
    "**Tokenization & stop words removal**"
   ]
  },
  {
   "cell_type": "code",
   "execution_count": 5,
   "metadata": {
    "scrolled": true
   },
   "outputs": [],
   "source": [
    "#first, we tokenize the message\n",
    "df_eda[\"tokenized_message\"] = df_eda[\"Message\"].apply(word_tokenize)\n",
    "\n",
    "#then, we remove stopwords and punctuations from the tokens because they are not important in this exercise\n",
    "stop_words = set(stopwords.words('english'))\n",
    "df_eda['tokens_without_stopwords'] = df_eda['tokenized_message'].apply(lambda x: [w for w in x if not w.lower() in stop_words if w.isalnum()])\n",
    "\n",
    "#afterwards, we drop the column \"tokenized_message\"\n",
    "df_eda = df_eda.drop(\"tokenized_message\", axis = 1)"
   ]
  },
  {
   "cell_type": "markdown",
   "metadata": {},
   "source": [
    "**Check tokens diversity**"
   ]
  },
  {
   "cell_type": "code",
   "execution_count": 6,
   "metadata": {},
   "outputs": [],
   "source": [
    "#Get Type-Token Ratio (TTR)\n",
    "def ttr_calculator(tokens_list):\n",
    "    tokens_len = len(tokens_list)\n",
    "    type_len = len(set(tokens_list))\n",
    "    if type_len == 0:\n",
    "        ttr = 0\n",
    "    else:\n",
    "        ttr = type_len/tokens_len\n",
    "    return ttr\n",
    "\n",
    "#add TTR column\n",
    "df_eda[\"TTR\"] = df_eda[\"tokens_without_stopwords\"].apply(ttr_calculator)"
   ]
  },
  {
   "cell_type": "code",
   "execution_count": 7,
   "metadata": {
    "scrolled": false
   },
   "outputs": [
    {
     "data": {
      "image/png": "[encoded data removed]",
      "text/plain": [
       "<Figure size 576x432 with 1 Axes>"
      ]
     },
     "metadata": {
      "needs_background": "light"
     },
     "output_type": "display_data"
    }
   ],
   "source": [
    "fig=plt.figure(figsize=(8,6))\n",
    "sns.histplot(\n",
    "    x=df_eda[\"TTR\"],\n",
    "    hue=df_eda[\"Category\"],\n",
    "    palette=['#F08080',\"#154360\"]\n",
    ")\n",
    "plt.title(\"ham vs spam message TTR\")\n",
    "plt.show()"
   ]
  },
  {
   "cell_type": "markdown",
   "metadata": {},
   "source": [
    "**check foreign characters using regex**"
   ]
  },
  {
   "cell_type": "code",
   "execution_count": 8,
   "metadata": {
    "scrolled": false
   },
   "outputs": [],
   "source": [
    "def foreign_char_check(tokens_list):\n",
    "    regex = \"[^((0-9)|(a-z)|(A-Z)|\\s)]\"\n",
    "    foreign_char = [token for token in tokens_list if bool(re.search(regex, token))]\n",
    "    return foreign_char"
   ]
  },
  {
   "cell_type": "code",
   "execution_count": 9,
   "metadata": {},
   "outputs": [],
   "source": [
    "#add a new column for foreign words\n",
    "df_eda[\"foreign_words\"] = df_eda[\"tokens_without_stopwords\"].apply(foreign_char_check)\n",
    "df_eda['len_foreign_words'] = df_eda[\"foreign_words\"].apply(len)"
   ]
  },
  {
   "cell_type": "code",
   "execution_count": 10,
   "metadata": {},
   "outputs": [
    {
     "data": {
      "text/html": [
       "<div>\n",
       "<style scoped>\n",
       "    .dataframe tbody tr th:only-of-type {\n",
       "        vertical-align: middle;\n",
       "    }\n",
       "\n",
       "    .dataframe tbody tr th {\n",
       "        vertical-align: top;\n",
       "    }\n",
       "\n",
       "    .dataframe thead th {\n",
       "        text-align: right;\n",
       "    }\n",
       "</style>\n",
       "<table border=\"1\" class=\"dataframe\">\n",
       "  <thead>\n",
       "    <tr style=\"text-align: right;\">\n",
       "      <th></th>\n",
       "      <th>Category</th>\n",
       "      <th>Message</th>\n",
       "      <th>word count</th>\n",
       "      <th>tokens_without_stopwords</th>\n",
       "      <th>TTR</th>\n",
       "      <th>foreign_words</th>\n",
       "      <th>len_foreign_words</th>\n",
       "    </tr>\n",
       "  </thead>\n",
       "  <tbody>\n",
       "    <tr>\n",
       "      <th>22</th>\n",
       "      <td>ham</td>\n",
       "      <td>So ü pay first lar... Then when is da stock comin...</td>\n",
       "      <td>11</td>\n",
       "      <td>[ü, pay, first, lar, da, stock, comin]</td>\n",
       "      <td>1.000000</td>\n",
       "      <td>[ü]</td>\n",
       "      <td>1</td>\n",
       "    </tr>\n",
       "    <tr>\n",
       "      <th>35</th>\n",
       "      <td>ham</td>\n",
       "      <td>Yup... Ok i go home look at the timings then i msg ü again... Xuhui going to learn on 2nd may too but her lesson is at 8am</td>\n",
       "      <td>28</td>\n",
       "      <td>[Yup, Ok, go, home, look, timings, msg, ü, Xuhui, going, learn, 2nd, may, lesson, 8am]</td>\n",
       "      <td>1.000000</td>\n",
       "      <td>[ü]</td>\n",
       "      <td>1</td>\n",
       "    </tr>\n",
       "    <tr>\n",
       "      <th>125</th>\n",
       "      <td>ham</td>\n",
       "      <td>Ü predict wat time ü'll finish buying?</td>\n",
       "      <td>7</td>\n",
       "      <td>[Ü, predict, wat, time, ü, finish, buying]</td>\n",
       "      <td>1.000000</td>\n",
       "      <td>[Ü, ü]</td>\n",
       "      <td>2</td>\n",
       "    </tr>\n",
       "    <tr>\n",
       "      <th>140</th>\n",
       "      <td>ham</td>\n",
       "      <td>Got c... I lazy to type... I forgot ü in lect... I saw a pouch but like not v nice...</td>\n",
       "      <td>20</td>\n",
       "      <td>[Got, c, lazy, type, forgot, ü, lect, saw, pouch, like, v, nice]</td>\n",
       "      <td>1.000000</td>\n",
       "      <td>[ü]</td>\n",
       "      <td>1</td>\n",
       "    </tr>\n",
       "    <tr>\n",
       "      <th>206</th>\n",
       "      <td>ham</td>\n",
       "      <td>Ü say until like dat i dun buy ericsson oso cannot oredi lar...</td>\n",
       "      <td>13</td>\n",
       "      <td>[Ü, say, like, dat, dun, buy, ericsson, oso, oredi, lar]</td>\n",
       "      <td>1.000000</td>\n",
       "      <td>[Ü]</td>\n",
       "      <td>1</td>\n",
       "    </tr>\n",
       "    <tr>\n",
       "      <th>...</th>\n",
       "      <td>...</td>\n",
       "      <td>...</td>\n",
       "      <td>...</td>\n",
       "      <td>...</td>\n",
       "      <td>...</td>\n",
       "      <td>...</td>\n",
       "      <td>...</td>\n",
       "    </tr>\n",
       "    <tr>\n",
       "      <th>5354</th>\n",
       "      <td>ham</td>\n",
       "      <td>Aiyo cos i sms ü then ü neva reply so i wait 4 ü to reply lar. I tot ü havent finish ur lab wat.</td>\n",
       "      <td>25</td>\n",
       "      <td>[Aiyo, cos, sms, ü, ü, neva, reply, wait, 4, ü, reply, lar, tot, ü, havent, finish, ur, lab, wat]</td>\n",
       "      <td>0.789474</td>\n",
       "      <td>[ü, ü, ü, ü]</td>\n",
       "      <td>4</td>\n",
       "    </tr>\n",
       "    <tr>\n",
       "      <th>5400</th>\n",
       "      <td>ham</td>\n",
       "      <td>HARD BUT TRUE: How much you show &amp;amp;  express your love to someone....that much it will hurt when they leave you or you get seperated...!鈥┾??〨ud evening...</td>\n",
       "      <td>26</td>\n",
       "      <td>[HARD, TRUE, much, show, amp, express, love, someone, much, hurt, leave, get, seperated, 〨ud, evening]</td>\n",
       "      <td>0.933333</td>\n",
       "      <td>[〨ud]</td>\n",
       "      <td>1</td>\n",
       "    </tr>\n",
       "    <tr>\n",
       "      <th>5407</th>\n",
       "      <td>ham</td>\n",
       "      <td>Yup he msg me: is tat yijue? Then i tot it's my group mate cos we meeting today mah... I'm askin if ü leaving earlier or wat mah cos mayb ü haf to walk v far...</td>\n",
       "      <td>36</td>\n",
       "      <td>[Yup, msg, tat, yijue, tot, group, mate, cos, meeting, today, mah, askin, ü, leaving, earlier, wat, mah, cos, mayb, ü, haf, walk, v, far]</td>\n",
       "      <td>0.875000</td>\n",
       "      <td>[ü, ü]</td>\n",
       "      <td>2</td>\n",
       "    </tr>\n",
       "    <tr>\n",
       "      <th>5473</th>\n",
       "      <td>ham</td>\n",
       "      <td>Ok lor ü reaching then message me.</td>\n",
       "      <td>7</td>\n",
       "      <td>[Ok, lor, ü, reaching, message]</td>\n",
       "      <td>1.000000</td>\n",
       "      <td>[ü]</td>\n",
       "      <td>1</td>\n",
       "    </tr>\n",
       "    <tr>\n",
       "      <th>5568</th>\n",
       "      <td>ham</td>\n",
       "      <td>Will ü b going to esplanade fr home?</td>\n",
       "      <td>8</td>\n",
       "      <td>[ü, b, going, esplanade, fr, home]</td>\n",
       "      <td>1.000000</td>\n",
       "      <td>[ü]</td>\n",
       "      <td>1</td>\n",
       "    </tr>\n",
       "  </tbody>\n",
       "</table>\n",
       "<p>140 rows × 7 columns</p>\n",
       "</div>"
      ],
      "text/plain": [
       "     Category  \\\n",
       "22        ham   \n",
       "35        ham   \n",
       "125       ham   \n",
       "140       ham   \n",
       "206       ham   \n",
       "...       ...   \n",
       "5354      ham   \n",
       "5400      ham   \n",
       "5407      ham   \n",
       "5473      ham   \n",
       "5568      ham   \n",
       "\n",
       "                                                                                                                                                               Message  \\\n",
       "22                                                                                                                So ü pay first lar... Then when is da stock comin...   \n",
       "35                                          Yup... Ok i go home look at the timings then i msg ü again... Xuhui going to learn on 2nd may too but her lesson is at 8am   \n",
       "125                                                                                                                             Ü predict wat time ü'll finish buying?   \n",
       "140                                                                              Got c... I lazy to type... I forgot ü in lect... I saw a pouch but like not v nice...   \n",
       "206                                                                                                    Ü say until like dat i dun buy ericsson oso cannot oredi lar...   \n",
       "...                                                                                                                                                                ...   \n",
       "5354                                                                  Aiyo cos i sms ü then ü neva reply so i wait 4 ü to reply lar. I tot ü havent finish ur lab wat.   \n",
       "5400     HARD BUT TRUE: How much you show &amp;  express your love to someone....that much it will hurt when they leave you or you get seperated...!鈥┾??〨ud evening...   \n",
       "5407  Yup he msg me: is tat yijue? Then i tot it's my group mate cos we meeting today mah... I'm askin if ü leaving earlier or wat mah cos mayb ü haf to walk v far...   \n",
       "5473                                                                                                                                Ok lor ü reaching then message me.   \n",
       "5568                                                                                                                              Will ü b going to esplanade fr home?   \n",
       "\n",
       "      word count  \\\n",
       "22            11   \n",
       "35            28   \n",
       "125            7   \n",
       "140           20   \n",
       "206           13   \n",
       "...          ...   \n",
       "5354          25   \n",
       "5400          26   \n",
       "5407          36   \n",
       "5473           7   \n",
       "5568           8   \n",
       "\n",
       "                                                                                                                       tokens_without_stopwords  \\\n",
       "22                                                                                                       [ü, pay, first, lar, da, stock, comin]   \n",
       "35                                                       [Yup, Ok, go, home, look, timings, msg, ü, Xuhui, going, learn, 2nd, may, lesson, 8am]   \n",
       "125                                                                                                  [Ü, predict, wat, time, ü, finish, buying]   \n",
       "140                                                                            [Got, c, lazy, type, forgot, ü, lect, saw, pouch, like, v, nice]   \n",
       "206                                                                                    [Ü, say, like, dat, dun, buy, ericsson, oso, oredi, lar]   \n",
       "...                                                                                                                                         ...   \n",
       "5354                                          [Aiyo, cos, sms, ü, ü, neva, reply, wait, 4, ü, reply, lar, tot, ü, havent, finish, ur, lab, wat]   \n",
       "5400                                     [HARD, TRUE, much, show, amp, express, love, someone, much, hurt, leave, get, seperated, 〨ud, evening]   \n",
       "5407  [Yup, msg, tat, yijue, tot, group, mate, cos, meeting, today, mah, askin, ü, leaving, earlier, wat, mah, cos, mayb, ü, haf, walk, v, far]   \n",
       "5473                                                                                                            [Ok, lor, ü, reaching, message]   \n",
       "5568                                                                                                         [ü, b, going, esplanade, fr, home]   \n",
       "\n",
       "           TTR foreign_words  len_foreign_words  \n",
       "22    1.000000           [ü]                  1  \n",
       "35    1.000000           [ü]                  1  \n",
       "125   1.000000        [Ü, ü]                  2  \n",
       "140   1.000000           [ü]                  1  \n",
       "206   1.000000           [Ü]                  1  \n",
       "...        ...           ...                ...  \n",
       "5354  0.789474  [ü, ü, ü, ü]                  4  \n",
       "5400  0.933333         [〨ud]                  1  \n",
       "5407  0.875000        [ü, ü]                  2  \n",
       "5473  1.000000           [ü]                  1  \n",
       "5568  1.000000           [ü]                  1  \n",
       "\n",
       "[140 rows x 7 columns]"
      ]
     },
     "execution_count": 10,
     "metadata": {},
     "output_type": "execute_result"
    }
   ],
   "source": [
    "df_eda[df_eda['len_foreign_words'] != 0]"
   ]
  },
  {
   "cell_type": "code",
   "execution_count": 11,
   "metadata": {},
   "outputs": [
    {
     "data": {
      "text/html": [
       "<div>\n",
       "<style scoped>\n",
       "    .dataframe tbody tr th:only-of-type {\n",
       "        vertical-align: middle;\n",
       "    }\n",
       "\n",
       "    .dataframe tbody tr th {\n",
       "        vertical-align: top;\n",
       "    }\n",
       "\n",
       "    .dataframe thead th {\n",
       "        text-align: right;\n",
       "    }\n",
       "</style>\n",
       "<table border=\"1\" class=\"dataframe\">\n",
       "  <thead>\n",
       "    <tr style=\"text-align: right;\">\n",
       "      <th></th>\n",
       "      <th>Category</th>\n",
       "      <th>foreign_words</th>\n",
       "    </tr>\n",
       "  </thead>\n",
       "  <tbody>\n",
       "    <tr>\n",
       "      <th>22</th>\n",
       "      <td>ham</td>\n",
       "      <td>[ü]</td>\n",
       "    </tr>\n",
       "    <tr>\n",
       "      <th>35</th>\n",
       "      <td>ham</td>\n",
       "      <td>[ü]</td>\n",
       "    </tr>\n",
       "    <tr>\n",
       "      <th>125</th>\n",
       "      <td>ham</td>\n",
       "      <td>[Ü, ü]</td>\n",
       "    </tr>\n",
       "    <tr>\n",
       "      <th>140</th>\n",
       "      <td>ham</td>\n",
       "      <td>[ü]</td>\n",
       "    </tr>\n",
       "    <tr>\n",
       "      <th>206</th>\n",
       "      <td>ham</td>\n",
       "      <td>[Ü]</td>\n",
       "    </tr>\n",
       "    <tr>\n",
       "      <th>...</th>\n",
       "      <td>...</td>\n",
       "      <td>...</td>\n",
       "    </tr>\n",
       "    <tr>\n",
       "      <th>5354</th>\n",
       "      <td>ham</td>\n",
       "      <td>[ü, ü, ü, ü]</td>\n",
       "    </tr>\n",
       "    <tr>\n",
       "      <th>5400</th>\n",
       "      <td>ham</td>\n",
       "      <td>[〨ud]</td>\n",
       "    </tr>\n",
       "    <tr>\n",
       "      <th>5407</th>\n",
       "      <td>ham</td>\n",
       "      <td>[ü, ü]</td>\n",
       "    </tr>\n",
       "    <tr>\n",
       "      <th>5473</th>\n",
       "      <td>ham</td>\n",
       "      <td>[ü]</td>\n",
       "    </tr>\n",
       "    <tr>\n",
       "      <th>5568</th>\n",
       "      <td>ham</td>\n",
       "      <td>[ü]</td>\n",
       "    </tr>\n",
       "  </tbody>\n",
       "</table>\n",
       "<p>140 rows × 2 columns</p>\n",
       "</div>"
      ],
      "text/plain": [
       "     Category foreign_words\n",
       "22        ham           [ü]\n",
       "35        ham           [ü]\n",
       "125       ham        [Ü, ü]\n",
       "140       ham           [ü]\n",
       "206       ham           [Ü]\n",
       "...       ...           ...\n",
       "5354      ham  [ü, ü, ü, ü]\n",
       "5400      ham         [〨ud]\n",
       "5407      ham        [ü, ü]\n",
       "5473      ham           [ü]\n",
       "5568      ham           [ü]\n",
       "\n",
       "[140 rows x 2 columns]"
      ]
     },
     "execution_count": 11,
     "metadata": {},
     "output_type": "execute_result"
    }
   ],
   "source": [
    "df_eda[df_eda['len_foreign_words'] != 0][['Category', 'foreign_words']]"
   ]
  },
  {
   "cell_type": "markdown",
   "metadata": {},
   "source": [
    "**All messages containing foreign characters is ham**"
   ]
  },
  {
   "cell_type": "code",
   "execution_count": 12,
   "metadata": {
    "scrolled": true
   },
   "outputs": [
    {
     "data": {
      "image/png": "[encoded data removed]",
      "text/plain": [
       "<Figure size 432x288 with 1 Axes>"
      ]
     },
     "metadata": {
      "needs_background": "light"
     },
     "output_type": "display_data"
    }
   ],
   "source": [
    "sns.countplot(\n",
    "    data=df_eda[df_eda['len_foreign_words'] != 0],\n",
    "    x=\"Category\",\n",
    "    palette=['#F08080',\"#154360\"]\n",
    ").set(title='Messages with foreign characters')\n",
    "plt.show()"
   ]
  },
  {
   "cell_type": "markdown",
   "metadata": {},
   "source": [
    "#### Check the number of rows for each category"
   ]
  },
  {
   "cell_type": "code",
   "execution_count": 13,
   "metadata": {
    "scrolled": true
   },
   "outputs": [
    {
     "data": {
      "image/png": "[encoded data removed]",
      "text/plain": [
       "<Figure size 432x288 with 1 Axes>"
      ]
     },
     "metadata": {
      "needs_background": "light"
     },
     "output_type": "display_data"
    }
   ],
   "source": [
    "sns.countplot(\n",
    "    data=df,\n",
    "    x=\"Category\",\n",
    "    palette=['#F08080',\"#40E0D0\"]\n",
    ")\n",
    "plt.show()"
   ]
  },
  {
   "cell_type": "markdown",
   "metadata": {},
   "source": [
    "The data is very imbalanced "
   ]
  },
  {
   "cell_type": "markdown",
   "metadata": {},
   "source": [
    "### Data Processing"
   ]
  },
  {
   "cell_type": "markdown",
   "metadata": {},
   "source": [
    "#### First we need to balance the dataset by removing a large amount of ham data"
   ]
  },
  {
   "cell_type": "code",
   "execution_count": 14,
   "metadata": {
    "scrolled": true
   },
   "outputs": [],
   "source": [
    "random.seed(10)\n",
    "\n",
    "#get the number of rows which need to be dropped from ham\n",
    "ham_spam_difference = len(df[df.Category == 'ham'])-len(df[df.Category == 'spam'])\n",
    "\n",
    "#get a list of ham index\n",
    "ham_index = list(df[df.Category == 'ham'].index)\n",
    "\n",
    "#randomly set the rows to be dropped\n",
    "ham_index_to_drop = random.sample(ham_index, ham_spam_difference) "
   ]
  },
  {
   "cell_type": "code",
   "execution_count": 15,
   "metadata": {},
   "outputs": [],
   "source": [
    "balanced_df = df.drop(ham_index_to_drop)\n",
    "balanced_df.index = range(len(balanced_df))"
   ]
  },
  {
   "cell_type": "markdown",
   "metadata": {},
   "source": [
    "#### Now we can see that there are same number of rows of ham and spam data"
   ]
  },
  {
   "cell_type": "code",
   "execution_count": 16,
   "metadata": {},
   "outputs": [
    {
     "data": {
      "image/png": "[encoded data removed]",
      "text/plain": [
       "<Figure size 432x288 with 1 Axes>"
      ]
     },
     "metadata": {
      "needs_background": "light"
     },
     "output_type": "display_data"
    }
   ],
   "source": [
    "sns.countplot(\n",
    "    data=balanced_df,\n",
    "    x=\"Category\",\n",
    "    palette=['#F08080',\"#40E0D0\"]\n",
    ")\n",
    "plt.show()"
   ]
  },
  {
   "cell_type": "markdown",
   "metadata": {},
   "source": [
    "**Next, we need to code ham and spam to binary labels**"
   ]
  },
  {
   "cell_type": "code",
   "execution_count": 17,
   "metadata": {},
   "outputs": [],
   "source": [
    "balanced_df[\"Label\"]=balanced_df[\"Category\"].map({\"ham\":0,\"spam\":1})"
   ]
  },
  {
   "cell_type": "markdown",
   "metadata": {},
   "source": [
    "**Text Processing**"
   ]
  },
  {
   "cell_type": "code",
   "execution_count": 18,
   "metadata": {},
   "outputs": [],
   "source": [
    "#Use PorterStemmer to normalize words\n",
    "stemmer=PorterStemmer()\n",
    "\n",
    "#initialize an empty list to store words\n",
    "corpus=[]\n",
    "\n",
    "for message in balanced_df[\"Message\"]:\n",
    "    \n",
    "    message=message.lower().split()\n",
    "    message=[stemmer.stem(words)\n",
    "            for words in message\n",
    "             if words not in set(stopwords.words(\"english\"))]\n",
    "    \n",
    "    #join the word lists with the whitespace\n",
    "    message=\" \".join(message)\n",
    "    \n",
    "    #append the message in corpus list\n",
    "    corpus.append(message)"
   ]
  },
  {
   "cell_type": "code",
   "execution_count": 19,
   "metadata": {},
   "outputs": [],
   "source": [
    "vocab_size=10000\n",
    "\n",
    "oneHot_doc=[one_hot(words,n=vocab_size) for words in corpus]"
   ]
  },
  {
   "cell_type": "code",
   "execution_count": 20,
   "metadata": {},
   "outputs": [],
   "source": [
    "from tensorflow.keras.preprocessing.sequence import pad_sequences\n",
    "sentence_len=125\n",
    "embedded_doc=pad_sequences(\n",
    "    oneHot_doc,\n",
    "    maxlen=sentence_len,\n",
    "    padding=\"pre\"\n",
    ")"
   ]
  },
  {
   "cell_type": "code",
   "execution_count": 21,
   "metadata": {},
   "outputs": [],
   "source": [
    "extract_features=pd.DataFrame(\n",
    "    data=embedded_doc\n",
    ")\n",
    "target=balanced_df[\"Label\"]"
   ]
  },
  {
   "cell_type": "code",
   "execution_count": 22,
   "metadata": {},
   "outputs": [],
   "source": [
    "df_final=pd.concat([extract_features,target],axis=1)"
   ]
  },
  {
   "cell_type": "code",
   "execution_count": 23,
   "metadata": {
    "scrolled": true
   },
   "outputs": [
    {
     "data": {
      "text/html": [
       "<div>\n",
       "<style scoped>\n",
       "    .dataframe tbody tr th:only-of-type {\n",
       "        vertical-align: middle;\n",
       "    }\n",
       "\n",
       "    .dataframe tbody tr th {\n",
       "        vertical-align: top;\n",
       "    }\n",
       "\n",
       "    .dataframe thead th {\n",
       "        text-align: right;\n",
       "    }\n",
       "</style>\n",
       "<table border=\"1\" class=\"dataframe\">\n",
       "  <thead>\n",
       "    <tr style=\"text-align: right;\">\n",
       "      <th></th>\n",
       "      <th>0</th>\n",
       "      <th>1</th>\n",
       "      <th>2</th>\n",
       "      <th>3</th>\n",
       "      <th>4</th>\n",
       "      <th>5</th>\n",
       "      <th>6</th>\n",
       "      <th>7</th>\n",
       "      <th>8</th>\n",
       "      <th>9</th>\n",
       "      <th>10</th>\n",
       "      <th>11</th>\n",
       "      <th>12</th>\n",
       "      <th>13</th>\n",
       "      <th>14</th>\n",
       "      <th>...</th>\n",
       "      <th>111</th>\n",
       "      <th>112</th>\n",
       "      <th>113</th>\n",
       "      <th>114</th>\n",
       "      <th>115</th>\n",
       "      <th>116</th>\n",
       "      <th>117</th>\n",
       "      <th>118</th>\n",
       "      <th>119</th>\n",
       "      <th>120</th>\n",
       "      <th>121</th>\n",
       "      <th>122</th>\n",
       "      <th>123</th>\n",
       "      <th>124</th>\n",
       "      <th>Label</th>\n",
       "    </tr>\n",
       "  </thead>\n",
       "  <tbody>\n",
       "    <tr>\n",
       "      <th>0</th>\n",
       "      <td>0</td>\n",
       "      <td>0</td>\n",
       "      <td>0</td>\n",
       "      <td>0</td>\n",
       "      <td>0</td>\n",
       "      <td>0</td>\n",
       "      <td>0</td>\n",
       "      <td>0</td>\n",
       "      <td>0</td>\n",
       "      <td>0</td>\n",
       "      <td>0</td>\n",
       "      <td>0</td>\n",
       "      <td>0</td>\n",
       "      <td>0</td>\n",
       "      <td>0</td>\n",
       "      <td>...</td>\n",
       "      <td>6409</td>\n",
       "      <td>8687</td>\n",
       "      <td>3412</td>\n",
       "      <td>5847</td>\n",
       "      <td>7156</td>\n",
       "      <td>2421</td>\n",
       "      <td>7553</td>\n",
       "      <td>7361</td>\n",
       "      <td>6969</td>\n",
       "      <td>9245</td>\n",
       "      <td>4631</td>\n",
       "      <td>6957</td>\n",
       "      <td>3611</td>\n",
       "      <td>8175</td>\n",
       "      <td>0</td>\n",
       "    </tr>\n",
       "    <tr>\n",
       "      <th>1</th>\n",
       "      <td>0</td>\n",
       "      <td>0</td>\n",
       "      <td>0</td>\n",
       "      <td>0</td>\n",
       "      <td>0</td>\n",
       "      <td>0</td>\n",
       "      <td>0</td>\n",
       "      <td>0</td>\n",
       "      <td>0</td>\n",
       "      <td>0</td>\n",
       "      <td>0</td>\n",
       "      <td>0</td>\n",
       "      <td>0</td>\n",
       "      <td>0</td>\n",
       "      <td>0</td>\n",
       "      <td>...</td>\n",
       "      <td>1795</td>\n",
       "      <td>1583</td>\n",
       "      <td>832</td>\n",
       "      <td>5700</td>\n",
       "      <td>5142</td>\n",
       "      <td>7242</td>\n",
       "      <td>4080</td>\n",
       "      <td>518</td>\n",
       "      <td>8600</td>\n",
       "      <td>9890</td>\n",
       "      <td>6100</td>\n",
       "      <td>6487</td>\n",
       "      <td>8811</td>\n",
       "      <td>778</td>\n",
       "      <td>1</td>\n",
       "    </tr>\n",
       "    <tr>\n",
       "      <th>2</th>\n",
       "      <td>0</td>\n",
       "      <td>0</td>\n",
       "      <td>0</td>\n",
       "      <td>0</td>\n",
       "      <td>0</td>\n",
       "      <td>0</td>\n",
       "      <td>0</td>\n",
       "      <td>0</td>\n",
       "      <td>0</td>\n",
       "      <td>0</td>\n",
       "      <td>0</td>\n",
       "      <td>0</td>\n",
       "      <td>0</td>\n",
       "      <td>0</td>\n",
       "      <td>0</td>\n",
       "      <td>...</td>\n",
       "      <td>5059</td>\n",
       "      <td>1818</td>\n",
       "      <td>4226</td>\n",
       "      <td>421</td>\n",
       "      <td>2459</td>\n",
       "      <td>3421</td>\n",
       "      <td>5520</td>\n",
       "      <td>6290</td>\n",
       "      <td>518</td>\n",
       "      <td>1333</td>\n",
       "      <td>7978</td>\n",
       "      <td>1512</td>\n",
       "      <td>1145</td>\n",
       "      <td>3990</td>\n",
       "      <td>1</td>\n",
       "    </tr>\n",
       "    <tr>\n",
       "      <th>3</th>\n",
       "      <td>0</td>\n",
       "      <td>0</td>\n",
       "      <td>0</td>\n",
       "      <td>0</td>\n",
       "      <td>0</td>\n",
       "      <td>0</td>\n",
       "      <td>0</td>\n",
       "      <td>0</td>\n",
       "      <td>0</td>\n",
       "      <td>0</td>\n",
       "      <td>0</td>\n",
       "      <td>0</td>\n",
       "      <td>0</td>\n",
       "      <td>0</td>\n",
       "      <td>0</td>\n",
       "      <td>...</td>\n",
       "      <td>4608</td>\n",
       "      <td>9084</td>\n",
       "      <td>8299</td>\n",
       "      <td>4335</td>\n",
       "      <td>7548</td>\n",
       "      <td>223</td>\n",
       "      <td>9577</td>\n",
       "      <td>1270</td>\n",
       "      <td>1752</td>\n",
       "      <td>4163</td>\n",
       "      <td>5544</td>\n",
       "      <td>4437</td>\n",
       "      <td>8939</td>\n",
       "      <td>1270</td>\n",
       "      <td>0</td>\n",
       "    </tr>\n",
       "    <tr>\n",
       "      <th>4</th>\n",
       "      <td>0</td>\n",
       "      <td>0</td>\n",
       "      <td>0</td>\n",
       "      <td>0</td>\n",
       "      <td>0</td>\n",
       "      <td>0</td>\n",
       "      <td>0</td>\n",
       "      <td>0</td>\n",
       "      <td>0</td>\n",
       "      <td>0</td>\n",
       "      <td>0</td>\n",
       "      <td>0</td>\n",
       "      <td>0</td>\n",
       "      <td>0</td>\n",
       "      <td>0</td>\n",
       "      <td>...</td>\n",
       "      <td>1112</td>\n",
       "      <td>2377</td>\n",
       "      <td>6618</td>\n",
       "      <td>8989</td>\n",
       "      <td>2703</td>\n",
       "      <td>1051</td>\n",
       "      <td>6364</td>\n",
       "      <td>2703</td>\n",
       "      <td>273</td>\n",
       "      <td>2778</td>\n",
       "      <td>4124</td>\n",
       "      <td>4100</td>\n",
       "      <td>4735</td>\n",
       "      <td>5709</td>\n",
       "      <td>1</td>\n",
       "    </tr>\n",
       "  </tbody>\n",
       "</table>\n",
       "<p>5 rows × 126 columns</p>\n",
       "</div>"
      ],
      "text/plain": [
       "   0  1  2  3  4  5  6  7  8  9  10  11  12  13  14  ...   111   112   113  \\\n",
       "0  0  0  0  0  0  0  0  0  0  0   0   0   0   0   0  ...  6409  8687  3412   \n",
       "1  0  0  0  0  0  0  0  0  0  0   0   0   0   0   0  ...  1795  1583   832   \n",
       "2  0  0  0  0  0  0  0  0  0  0   0   0   0   0   0  ...  5059  1818  4226   \n",
       "3  0  0  0  0  0  0  0  0  0  0   0   0   0   0   0  ...  4608  9084  8299   \n",
       "4  0  0  0  0  0  0  0  0  0  0   0   0   0   0   0  ...  1112  2377  6618   \n",
       "\n",
       "    114   115   116   117   118   119   120   121   122   123   124  Label  \n",
       "0  5847  7156  2421  7553  7361  6969  9245  4631  6957  3611  8175      0  \n",
       "1  5700  5142  7242  4080   518  8600  9890  6100  6487  8811   778      1  \n",
       "2   421  2459  3421  5520  6290   518  1333  7978  1512  1145  3990      1  \n",
       "3  4335  7548   223  9577  1270  1752  4163  5544  4437  8939  1270      0  \n",
       "4  8989  2703  1051  6364  2703   273  2778  4124  4100  4735  5709      1  \n",
       "\n",
       "[5 rows x 126 columns]"
      ]
     },
     "execution_count": 23,
     "metadata": {},
     "output_type": "execute_result"
    }
   ],
   "source": [
    "df_final.head()"
   ]
  },
  {
   "cell_type": "markdown",
   "metadata": {},
   "source": [
    "### Defin Train/Test dataset "
   ]
  },
  {
   "cell_type": "code",
   "execution_count": 24,
   "metadata": {},
   "outputs": [],
   "source": [
    "X=df_final.drop(\"Label\",axis=1)\n",
    "y=df_final[\"Label\"]"
   ]
  },
  {
   "cell_type": "code",
   "execution_count": 25,
   "metadata": {},
   "outputs": [],
   "source": [
    "from sklearn.model_selection import train_test_split"
   ]
  },
  {
   "cell_type": "code",
   "execution_count": 26,
   "metadata": {},
   "outputs": [],
   "source": [
    "X_train, X_test, y_train, y_test = train_test_split(\n",
    "  X,\n",
    "  y,\n",
    "  test_size=0.2\n",
    ")"
   ]
  },
  {
   "cell_type": "markdown",
   "metadata": {},
   "source": [
    "### Build Model"
   ]
  },
  {
   "cell_type": "code",
   "execution_count": 27,
   "metadata": {},
   "outputs": [],
   "source": [
    "from tensorflow.keras.layers import LSTM\n",
    "from tensorflow.keras.layers import Dense\n",
    "from tensorflow.keras.layers import Embedding\n",
    "from tensorflow.keras.models import Sequential\n",
    "from tensorflow.keras.optimizers import Adam\n",
    "from keras import callbacks"
   ]
  },
  {
   "cell_type": "code",
   "execution_count": 28,
   "metadata": {},
   "outputs": [],
   "source": [
    "model=Sequential()\n",
    "\n",
    "feature_num=100\n",
    "\n",
    "model.add(Embedding(input_dim=vocab_size,\n",
    "                    output_dim=feature_num,\n",
    "                    input_length=sentence_len))\n",
    "model.add(LSTM(\n",
    "    units=128))\n",
    "\n",
    "model.add(Dense(units=1,\n",
    "                activation=\"sigmoid\"))"
   ]
  },
  {
   "cell_type": "code",
   "execution_count": 29,
   "metadata": {},
   "outputs": [],
   "source": [
    "model.compile(\n",
    "    optimizer=Adam(\n",
    "    learning_rate=0.001\n",
    "    ),\n",
    "    loss=\"binary_crossentropy\",\n",
    "    metrics=[\"accuracy\"]\n",
    ")"
   ]
  },
  {
   "cell_type": "markdown",
   "metadata": {},
   "source": [
    "**Use Earlystopping to avoid overtraining**"
   ]
  },
  {
   "cell_type": "code",
   "execution_count": 30,
   "metadata": {},
   "outputs": [],
   "source": [
    "earlystopping = callbacks.EarlyStopping(monitor =\"val_loss\",mode =\"min\", patience = 5,restore_best_weights = True)"
   ]
  },
  {
   "cell_type": "markdown",
   "metadata": {},
   "source": [
    "**Fit Model**"
   ]
  },
  {
   "cell_type": "code",
   "execution_count": 31,
   "metadata": {
    "scrolled": false
   },
   "outputs": [
    {
     "name": "stdout",
     "output_type": "stream",
     "text": [
      "Epoch 1/100\n",
      "60/60 - 6s - loss: 0.4110 - accuracy: 0.8128 - val_loss: 0.2132 - val_accuracy: 0.8954 - 6s/epoch - 92ms/step\n",
      "Epoch 2/100\n",
      "60/60 - 3s - loss: 0.1250 - accuracy: 0.9644 - val_loss: 0.1960 - val_accuracy: 0.9331 - 3s/epoch - 55ms/step\n",
      "Epoch 3/100\n",
      "60/60 - 3s - loss: 0.0689 - accuracy: 0.9874 - val_loss: 0.1085 - val_accuracy: 0.9540 - 3s/epoch - 56ms/step\n",
      "Epoch 4/100\n",
      "60/60 - 3s - loss: 0.0281 - accuracy: 0.9927 - val_loss: 0.1023 - val_accuracy: 0.9582 - 3s/epoch - 56ms/step\n",
      "Epoch 5/100\n",
      "60/60 - 3s - loss: 0.0144 - accuracy: 0.9958 - val_loss: 0.1233 - val_accuracy: 0.9540 - 3s/epoch - 54ms/step\n",
      "Epoch 6/100\n",
      "60/60 - 3s - loss: 0.0097 - accuracy: 0.9979 - val_loss: 0.1138 - val_accuracy: 0.9623 - 3s/epoch - 56ms/step\n",
      "Epoch 7/100\n",
      "60/60 - 4s - loss: 0.0087 - accuracy: 0.9969 - val_loss: 0.1232 - val_accuracy: 0.9456 - 4s/epoch - 64ms/step\n",
      "Epoch 8/100\n",
      "60/60 - 4s - loss: 0.0045 - accuracy: 1.0000 - val_loss: 0.1183 - val_accuracy: 0.9582 - 4s/epoch - 65ms/step\n",
      "Epoch 9/100\n",
      "60/60 - 4s - loss: 0.0026 - accuracy: 1.0000 - val_loss: 0.1201 - val_accuracy: 0.9498 - 4s/epoch - 64ms/step\n"
     ]
    }
   ],
   "source": [
    "history = model.fit(\n",
    "    X_train, \n",
    "    y_train, \n",
    "    epochs=100, \n",
    "    validation_split=0.20, \n",
    "    batch_size=16, \n",
    "    verbose=2,\n",
    "    callbacks=[earlystopping]\n",
    ")"
   ]
  },
  {
   "cell_type": "code",
   "execution_count": 32,
   "metadata": {},
   "outputs": [
    {
     "name": "stdout",
     "output_type": "stream",
     "text": [
      "10/10 [==============================] - 0s 21ms/step - loss: 0.0795 - accuracy: 0.9766\n"
     ]
    },
    {
     "data": {
      "text/plain": [
       "[0.07953840494155884, 0.9765886068344116]"
      ]
     },
     "execution_count": 32,
     "metadata": {},
     "output_type": "execute_result"
    }
   ],
   "source": [
    "model.evaluate(X_test, y_test)"
   ]
  },
  {
   "cell_type": "markdown",
   "metadata": {},
   "source": [
    "### Create plot for model performance metrics"
   ]
  },
  {
   "cell_type": "code",
   "execution_count": 33,
   "metadata": {},
   "outputs": [],
   "source": [
    "def plot_metric(history, metric):\n",
    "        train_metrics = history.history[metric]\n",
    "        val_metrics = history.history['val_'+metric]\n",
    "        epochs = range(1, len(train_metrics) + 1)\n",
    "        plt.plot(epochs, train_metrics)\n",
    "        plt.plot(epochs, val_metrics)\n",
    "        plt.title('Training and validation '+ metric)\n",
    "        plt.xlabel(\"Epochs\")\n",
    "        plt.ylabel(metric)\n",
    "        plt.legend([\"train_\"+metric, 'val_'+metric])\n",
    "        plt.show()"
   ]
  },
  {
   "cell_type": "code",
   "execution_count": 34,
   "metadata": {
    "scrolled": true
   },
   "outputs": [
    {
     "data": {
      "image/png": "[encoded data removed]",
      "text/plain": [
       "<Figure size 432x288 with 1 Axes>"
      ]
     },
     "metadata": {
      "needs_background": "light"
     },
     "output_type": "display_data"
    }
   ],
   "source": [
    "plot_metric(history, 'loss')"
   ]
  },
  {
   "cell_type": "code",
   "execution_count": 35,
   "metadata": {},
   "outputs": [
    {
     "data": {
      "image/png": "[encoded data removed]",
      "text/plain": [
       "<Figure size 432x288 with 1 Axes>"
      ]
     },
     "metadata": {
      "needs_background": "light"
     },
     "output_type": "display_data"
    }
   ],
   "source": [
    "plot_metric(history, 'accuracy')"
   ]
  },
  {
   "cell_type": "markdown",
   "metadata": {},
   "source": [
    "#### Use test dataset to get predictions"
   ]
  },
  {
   "cell_type": "code",
   "execution_count": 36,
   "metadata": {
    "scrolled": true
   },
   "outputs": [
    {
     "name": "stdout",
     "output_type": "stream",
     "text": [
      "10/10 [==============================] - 1s 23ms/step\n"
     ]
    }
   ],
   "source": [
    "y_pred=model.predict(X_test)"
   ]
  },
  {
   "cell_type": "markdown",
   "metadata": {},
   "source": [
    "**Loop through different threshold to see which one gives the best result**"
   ]
  },
  {
   "cell_type": "code",
   "execution_count": 37,
   "metadata": {},
   "outputs": [
    {
     "name": "stdout",
     "output_type": "stream",
     "text": [
      "The best accuracy 97.65886% is achieved when the threshold is set at 0.5.\n"
     ]
    }
   ],
   "source": [
    "max_accuracy = 0\n",
    "best_threshold = 0\n",
    "\n",
    "for threshold in np.arange(0.5, 0.99, 0.01):\n",
    "    y_pred_=(y_pred>threshold)\n",
    "    score=accuracy_score(y_test,y_pred_)\n",
    "    if score > max_accuracy:\n",
    "        max_accuracy = score\n",
    "        best_threshold = threshold\n",
    "    else:\n",
    "        pass\n",
    "\n",
    "print(\"The best accuracy {}% is achieved when the threshold is set at {}.\".format(round(max_accuracy*100, 5), best_threshold))"
   ]
  },
  {
   "cell_type": "markdown",
   "metadata": {},
   "source": [
    "**Use the best threshold to classify the predicitons**"
   ]
  },
  {
   "cell_type": "code",
   "execution_count": 38,
   "metadata": {},
   "outputs": [],
   "source": [
    "y_pred=(y_pred>best_threshold)"
   ]
  },
  {
   "cell_type": "markdown",
   "metadata": {},
   "source": [
    "**Confusion Matrix**"
   ]
  },
  {
   "cell_type": "code",
   "execution_count": 39,
   "metadata": {
    "scrolled": false
   },
   "outputs": [
    {
     "data": {
      "image/png": "[encoded data removed]",
      "text/plain": [
       "<Figure size 432x288 with 2 Axes>"
      ]
     },
     "metadata": {
      "needs_background": "light"
     },
     "output_type": "display_data"
    }
   ],
   "source": [
    "cf_matrix=confusion_matrix(y_test,y_pred)\n",
    "\n",
    "ax = sns.heatmap(cf_matrix/np.sum(cf_matrix), annot=True, \n",
    "            fmt='.2%', cmap='Blues')\n",
    "\n",
    "ax.set_title('Confusion Matrix\\n\\n');\n",
    "ax.set_xlabel('\\nPredicted Values')\n",
    "ax.set_ylabel('Actual Values ');\n",
    "\n",
    "## Ticket labels - List must be in alphabetical order\n",
    "ax.xaxis.set_ticklabels(['Ham','Spam'])\n",
    "ax.yaxis.set_ticklabels(['Ham','Spam'])\n",
    "\n",
    "## Display the visualization of the Confusion Matrix.\n",
    "plt.show()"
   ]
  }
 ],
 "metadata": {
  "kernelspec": {
   "display_name": "Python 3",
   "language": "python",
   "name": "python3"
  },
  "language_info": {
   "codemirror_mode": {
    "name": "ipython",
    "version": 3
   },
   "file_extension": ".py",
   "mimetype": "text/x-python",
   "name": "python",
   "nbconvert_exporter": "python",
   "pygments_lexer": "ipython3",
   "version": "3.8.5"
  }
 },
 "nbformat": 4,
 "nbformat_minor": 4
}
